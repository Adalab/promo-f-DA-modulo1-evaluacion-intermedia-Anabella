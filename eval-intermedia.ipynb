{
 "cells": [
  {
   "cell_type": "markdown",
   "metadata": {},
   "source": [
    "Parte 1: Strings\n",
    "\n",
    "1-Dada una cadena de texto, contar cuántas veces aparece una letra específica en ella. Usa un input para que el usuario elija la letra a buscar.\n",
    "cadena = \"Python es un lenguaje de programación muy popular\"\n",
    "\n",
    "2- Escribe un programa que tome la siguiente cadena de texto y reemplace una palabra específica por otra palabra. La palabra a reemplazar y reemplazada deben ser elegidas por el usuario.\n",
    "cadena = \"Python es genial. Python es fácil de aprender.\"\n",
    "\n",
    "3- Toma la siguiente oración y divídela en una lista de palabras. Luego, únelas nuevamente en una sola cadena de texto.\n",
    "oracion = \"Esto es una oración de ejemplo\"\n",
    "\n",
    "4- Desarrolla un programa que cuente cuántas palabras hay en la siguiente frase.\n",
    "cadena = \"Esta es una cadena con cinco palabras\"\n",
    "\n",
    "5- Escribe un programa que invierta una cadena de texto dada por un usuario. Mira el siguiente ejemplo para entender lo que se pide:\n",
    " # input \n",
    " \"Hola buenos dias\"\n",
    "\n",
    " # output\n",
    " \"dias buenos Hola\n",
    "\n",
    "6- Crea un programa que busque una palabra específica(elegida por la usuaria) en una cadena de texto e indique su posición."
   ]
  },
  {
   "cell_type": "code",
   "execution_count": 16,
   "metadata": {},
   "outputs": [
    {
     "name": "stdout",
     "output_type": "stream",
     "text": [
      "La letra y aparece 2 veces\n"
     ]
    }
   ],
   "source": [
    "cadena= 'Python es un lenguaje de programacion muy popular'\n",
    "usuario= input('Ingrese la letra que desea buscar: ').lower()\n",
    "\n",
    "print(f'La letra {usuario} aparece', cadena.count(usuario), 'veces')"
   ]
  },
  {
   "cell_type": "code",
   "execution_count": 19,
   "metadata": {},
   "outputs": [
    {
     "name": "stdout",
     "output_type": "stream",
     "text": [
      "La nueva cadena es: Python es genial. Python es dificil de aprender.\n"
     ]
    }
   ],
   "source": [
    "cadena = \"Python es genial. Python es fácil de aprender.\"\n",
    "palabra_reemplaza= input(f'Elige una palabra de la siguiente frase que quieras reemplazar {cadena}')\n",
    "nueva_palabra = input( 'Elige una palabra nueva: ')\n",
    "\n",
    "cadena_nueva = cadena.replace(palabra_reemplaza, nueva_palabra)\n",
    "print(f'La nueva cadena es: {cadena_nueva}')"
   ]
  },
  {
   "cell_type": "code",
   "execution_count": 28,
   "metadata": {},
   "outputs": [
    {
     "name": "stdout",
     "output_type": "stream",
     "text": [
      "Convertimos la oracion en una lista ['Esto', 'es', 'una', 'oración', 'de', 'ejemplo']\n",
      "---\n",
      "Volvemos a unir la oración:  Esto es una oración de ejemplo\n"
     ]
    }
   ],
   "source": [
    "oracion = \"Esto es una oración de ejemplo\"\n",
    "lista_oracion = oracion.split()\n",
    "print('Convertimos la oracion en una lista',lista_oracion)\n",
    "print('---')\n",
    "print('Volvemos a unir la oración: ', \" \".join(lista_oracion))\n",
    "\n"
   ]
  },
  {
   "cell_type": "code",
   "execution_count": 92,
   "metadata": {},
   "outputs": [
    {
     "name": "stdout",
     "output_type": "stream",
     "text": [
      "La cadena tiene 7 palabras\n"
     ]
    }
   ],
   "source": [
    "cadena = 'Esto es una cadena de cinco palabras'\n",
    "cadena.split()\n",
    "print('La cadena tiene', len(cadena.split()),'palabras')\n",
    "#con el metodo split transformo la cadena en una lista. Luego con el metodo len mido la cadena"
   ]
  },
  {
   "cell_type": "code",
   "execution_count": 31,
   "metadata": {},
   "outputs": [
    {
     "name": "stdout",
     "output_type": "stream",
     "text": [
      "said soneub ,aloH\n"
     ]
    }
   ],
   "source": [
    "frase = 'Hola, buenos dias'\n",
    "print(frase[::-1])"
   ]
  },
  {
   "cell_type": "code",
   "execution_count": 98,
   "metadata": {},
   "outputs": [
    {
     "name": "stdout",
     "output_type": "stream",
     "text": [
      "La usuaria ha elegido la palabra {'Estamos'} que està en la posicion 0\n"
     ]
    }
   ],
   "source": [
    "frase ='Estamos haciendo una evaluación intermedia'\n",
    "usuaria = input(f'Ingrese una palabra de la siguiente frase: {frase}')\n",
    "palabra = frase.index(usuaria)\n",
    "print(f'La usuaria ha elegido la palabra', {usuaria}, 'que està en la posicion', frase.index(usuaria))\n"
   ]
  },
  {
   "cell_type": "markdown",
   "metadata": {},
   "source": [
    "# Parte 2: Listas\n",
    "\n",
    "1-Dada la siguiente lista: frutas = ['manzana', 'pera', 'banana', 'uva', 'kiwi'], realiza lo siguiente:\n",
    "a) Reemplaza el segundo elemento con 'durazno'.\n",
    "b) Agrega 'naranja' al final de la lista.\n",
    "c) Extrae y muestra por pantalla el tercer elemento de la lista.\n",
    "\n",
    "2-Crea una lista llamada numeros que contenga los siguientes valores: 10, 25, 15, 30, 20.\n",
    "\n",
    "3-Agrega el valor 35 al incio de la lista numeros.\n",
    "\n",
    "4-Ordena la lista numeros en orden ascendente.\n",
    "\n",
    "5-Dada la siguiente lista numeros2 = [45, 22, 19, 38, 29]. Crea una nueva lista llamada numeros3 donde tengamos la unión de los todos los elementos de las dos listas (numeros y numeros2) de tal forma que el resultado final sea:\n",
    "numeros3 = [10, 25, 15, 30, 20, 45, 22, 19, 38, 29]\n",
    "\n",
    "6-Elimina el último elemento de la lista numeros3.\n",
    "\n",
    "7-Elimina el número 30 de la lista numeros3."
   ]
  },
  {
   "cell_type": "code",
   "execution_count": 35,
   "metadata": {},
   "outputs": [
    {
     "name": "stdout",
     "output_type": "stream",
     "text": [
      "reemplazamos segundo elemento\n",
      "['manzana', 'durazno', 'banana', 'uva', 'kiwi']\n",
      "agregamos un elemento al final de la lista\n",
      "['manzana', 'durazno', 'banana', 'uva', 'kiwi', 'naranja']\n",
      "Mostramos el tercer elemento de la lista:  banana\n"
     ]
    }
   ],
   "source": [
    "frutas = ['manzana', 'pera', 'banana', 'uva', 'kiwi']\n",
    "print('reemplazamos segundo elemento')\n",
    "frutas[1]= 'durazno'\n",
    "print(frutas)\n",
    "print('agregamos un elemento al final de la lista')\n",
    "frutas.append(\"naranja\") \n",
    "print(frutas)\n",
    "print('Mostramos el tercer elemento de la lista: ', frutas[2])\n"
   ]
  },
  {
   "cell_type": "code",
   "execution_count": 39,
   "metadata": {},
   "outputs": [
    {
     "name": "stdout",
     "output_type": "stream",
     "text": [
      "Agregamos un valor al inicio de la lista\n",
      "[35, 10, 25, 15, 30, 20]\n",
      "Ordenamos los números en forma ascendente [10, 15, 20, 25, 30, 35]\n"
     ]
    }
   ],
   "source": [
    "numeros = [10,25,15,30,20]\n",
    "print('Agregamos un valor al inicio de la lista')\n",
    "numeros.insert(0, 35)\n",
    "print(numeros)\n",
    "numeros.sort()\n",
    "print('Ordenamos los números en forma ascendente',numeros)\n"
   ]
  },
  {
   "cell_type": "code",
   "execution_count": 44,
   "metadata": {},
   "outputs": [
    {
     "name": "stdout",
     "output_type": "stream",
     "text": [
      "[10, 15, 20, 25, 30, 45, 22, 19, 38, 29]\n",
      "[10, 15, 20, 25, 30, 45, 22, 19, 38]\n",
      "[10, 15, 20, 25, 45, 22, 19, 38]\n"
     ]
    }
   ],
   "source": [
    "numeros2 = [45, 22, 19, 38, 29]\n",
    "numeros3 = numeros + numeros2\n",
    "print(numeros3)\n",
    "numeros3.pop()\n",
    "print(numeros3)\n",
    "numeros3.remove(30)\n",
    "print(numeros3)"
   ]
  },
  {
   "cell_type": "markdown",
   "metadata": {},
   "source": [
    "# Parte 3: Tuplas\n",
    "1-Crea una tupla llamada colores que contenga los siguientes valores: 'rojo', 'verde', 'azul', 'amarillo', 'morado'.\n",
    "\n",
    "2-Encuentra el índice de 'verde' en la tupla colores.\n",
    "\n",
    "3-¿Cuántas veces aparece 'azul' en la tupla colores?\n",
    "\n",
    "4-Añade el color \"morado\" a la tupla colores. ¿Qué ha pasado? ¿Por qué? Como podríamos añadir el elemento \"morado\"."
   ]
  },
  {
   "cell_type": "code",
   "execution_count": 50,
   "metadata": {},
   "outputs": [
    {
     "name": "stdout",
     "output_type": "stream",
     "text": [
      "El indice del color verde es:  1\n",
      "La cantidad de veces que aparece el color azul es de: 1\n",
      "['rojo', 'verde', 'azul', 'amarillo', 'morado']\n",
      "Agregamos el color morado a la lista ['rojo', 'verde', 'azul', 'amarillo', 'morado', 'morado']\n",
      "Volvemos a transformar la lisa en tupla\n",
      "('rojo', 'verde', 'azul', 'amarillo', 'morado', 'morado')\n"
     ]
    }
   ],
   "source": [
    "colores = ('rojo', 'verde', 'azul', 'amarillo', 'morado')\n",
    "print('El indice del color verde es: ', colores.index('verde'))\n",
    "colores.count('azul')\n",
    "print('La cantidad de veces que aparece el color azul es de:',colores.count('azul'))\n",
    "colores_lista = list(colores)\n",
    "print(colores_lista) #Las tuplas no se pueden modificar por lo tanto no tiene el metodo append. En este caso se convierte a una lista, se aplica el metodo append.\n",
    "colores_lista.append('morado')\n",
    "print('Agregamos el color morado a la lista', colores_lista)\n",
    "print('Volvemos a transformar la lisa en tupla')\n",
    "colores_tupla= tuple(colores_lista)\n",
    "print(colores_tupla)"
   ]
  },
  {
   "cell_type": "markdown",
   "metadata": {},
   "source": [
    "# Parte 4: Diccionarios\n",
    "1-Crea un diccionario llamado frutas con las siguientes parejas clave-valor:\n",
    "'manzana': 2\n",
    "'banana': 3\n",
    "'uva': 5\n",
    "'pera': 4\n",
    "\n",
    "2-Saca una lista de todas las frutas en el diccionario.\n",
    "\n",
    "3-Saca una lista de todas las cantidades en el diccionario.\n",
    "\n",
    "4-¿Qué cantidad de 'manzana' tenemos?. Si la clave 'manzana' no está presente, devuelve un mensaje diciendo \"No existe esa clave\".\n",
    "\n",
    "5-Agrega un nuevo par de clave-valor al diccionario frutas: 'kiwi' con una cantidad de 6."
   ]
  },
  {
   "cell_type": "code",
   "execution_count": 58,
   "metadata": {},
   "outputs": [
    {
     "name": "stdout",
     "output_type": "stream",
     "text": [
      "Obtenemos una lista de las frutas del diccionario:  dict_keys(['manzana', 'banana', 'uva', 'pera'])\n",
      "Obtenemos una lista con las cantidades del diccionario:  dict_values([2, 3, 5, 4])\n",
      "La cantidad de manzanas son: 2\n",
      "{'manzana': 2, 'banana': 3, 'uva': 5, 'pera': 4, 'kiwi': 6}\n"
     ]
    }
   ],
   "source": [
    "frutas = {'manzana': 2, 'banana': 3, 'uva': 5, 'pera': 4}\n",
    "print('Obtenemos una lista de las frutas del diccionario: ', frutas.keys())\n",
    "print('Obtenemos una lista con las cantidades del diccionario: ', frutas.values())\n",
    "\n",
    "if 'manzana' in frutas.keys():\n",
    "    print('La cantidad de manzanas son:', frutas['manzana'])\n",
    "else:\n",
    "    'No existe esa clave'\n",
    "\n",
    "frutas['kiwi']= 6\n",
    "print(frutas)\n",
    "    \n"
   ]
  },
  {
   "cell_type": "markdown",
   "metadata": {},
   "source": [
    "6.Cambia la cantidad de 'uva' a 8.\n",
    "\n",
    "7.Crea un segundo diccionario llamado frutas_nuevas con las siguientes parejas clave-valor:\n",
    "'sandía': 7\n",
    "'mango': 4\n",
    "\n",
    "8.Combinar los dos diccionarios frutas_nuevas y frutas en uno nuevos llamado frutas_total.\n",
    "\n",
    "9.Elimina el último par de clave-valor del diccionario fruta_total.\n",
    "\n",
    "10.Elimina el par de clave-valor correspondiente a la clave 'uva' del diccionario.\n",
    "\n",
    "11.Agregar la fruta 'manzana' con una cantidad de 10 al diccionario. Si ya existe, no se realizarán cambios en los valores que teníamos.\n",
    "\n",
    "12.Combinar métodos de listas y diccionarios:\n",
    "Obtén una lista de todas las cantidades en el diccionario y calcula suma total de las cantidades del diccionario frutas_total.\n",
    "Utilizando la lista creada en el apartado anterior encuentra la cantidad más grande y más pequeña."
   ]
  },
  {
   "cell_type": "code",
   "execution_count": 65,
   "metadata": {},
   "outputs": [
    {
     "name": "stdout",
     "output_type": "stream",
     "text": [
      "Cambiamos la cantidad de un elemento\n",
      "{'manzana': 2, 'banana': 3, 'uva': 8, 'pera': 4, 'kiwi': 6}\n",
      "{'sandia': 7, 'mango': 4}\n",
      "{'manzana': 2, 'banana': 3, 'uva': 8, 'pera': 4, 'kiwi': 6, 'sandia': 7, 'mango': 4}\n"
     ]
    }
   ],
   "source": [
    "print('Cambiamos la cantidad de un elemento')\n",
    "frutas['uva'] = 8\n",
    "print(frutas)\n",
    "\n",
    "frutas_nuevas= {'sandia':7 , 'mango': 4}\n",
    "print(frutas_nuevas)\n",
    "\n",
    "frutas.update(frutas_nuevas) #Me falto crear el diccionario frutas_total\n",
    "print(frutas)"
   ]
  },
  {
   "cell_type": "code",
   "execution_count": 66,
   "metadata": {},
   "outputs": [
    {
     "name": "stdout",
     "output_type": "stream",
     "text": [
      "Eliminamos el ùltimo par clave - valor\n",
      "{'manzana': 2, 'banana': 3, 'uva': 8, 'pera': 4, 'kiwi': 6, 'sandia': 7}\n"
     ]
    }
   ],
   "source": [
    "print('Eliminamos el ùltimo par clave - valor')\n",
    "frutas.popitem()\n",
    "print(frutas)"
   ]
  },
  {
   "cell_type": "code",
   "execution_count": 72,
   "metadata": {},
   "outputs": [
    {
     "name": "stdout",
     "output_type": "stream",
     "text": [
      "Imprimimos el diccionario frutas sin la clave uva {'manzana': 2, 'banana': 3, 'pera': 4, 'kiwi': 6, 'sandia': 7, 'mango': 4}\n",
      "{'manzana': 2, 'banana': 3, 'pera': 4, 'kiwi': 6, 'sandia': 7, 'mango': 4}\n"
     ]
    }
   ],
   "source": [
    "frutas.pop('uva')\n",
    "print('Imprimimos el diccionario frutas sin la clave uva', frutas)\n",
    "frutas.setdefault('manzana', 10)\n",
    "print(frutas)"
   ]
  },
  {
   "cell_type": "code",
   "execution_count": 77,
   "metadata": {},
   "outputs": [
    {
     "name": "stdout",
     "output_type": "stream",
     "text": [
      "dict_values([2, 3, 4, 6, 7, 4])\n",
      "La suma total de todos los valores es:  26\n",
      "El valor maximo es:  7\n",
      "El valor minimo es:  2\n"
     ]
    }
   ],
   "source": [
    "#Combinamos listas y diccionarios\n",
    "values = frutas.values()\n",
    "print(values)\n",
    "print('La suma total de todos los valores es: ',sum(values))\n",
    "print('El valor maximo es: ', max(values))\n",
    "print('El valor minimo es: ', min(values))"
   ]
  },
  {
   "cell_type": "markdown",
   "metadata": {},
   "source": [
    "# Parte 5: Métodos de Sets\n",
    "\n",
    "1-Crea un set llamado conjunto1 con los números del 1 al 5.\n",
    "\n",
    "2-Crea otro set llamado conjunto2 con los números del 4 al 8.\n",
    "\n",
    "3-Obtén la unión de conjunto1 y conjunto2.\n",
    "\n",
    "4-Obtén la intersección de conjunto1 y conjunto2.\n",
    "\n",
    "5-Obtén los elementos que están en conjunto1 pero no en el conjunto2.\n"
   ]
  },
  {
   "cell_type": "code",
   "execution_count": 80,
   "metadata": {},
   "outputs": [
    {
     "name": "stdout",
     "output_type": "stream",
     "text": [
      "La union de ambos conjuntos es: {1, 2, 3, 4, 5, 6, 7, 8}\n",
      "La interseccion de ambos conjuntos es:  {4, 5}\n",
      "Los elementos que estan en conjunto 1 pero no en dos son: {1, 2, 3}\n"
     ]
    }
   ],
   "source": [
    "conjunto1= {1,2,3,4,5}\n",
    "conjunto2 = {4,5,6,7,8}\n",
    "print('La union de ambos conjuntos es:', conjunto1.union(conjunto2)) #todos los elemento unicos del conjunto\n",
    "print('La interseccion de ambos conjuntos es: ', conjunto1.intersection(conjunto2)) # los elementos que comparten los conjuntos\n",
    "print('Los elementos que estan en conjunto 1 pero no en dos son:', conjunto1.difference(conjunto2)) #Los que estan en conjunto 1 y no en 2"
   ]
  },
  {
   "cell_type": "markdown",
   "metadata": {},
   "source": [
    "# Parte 6: Sentencias de Control\n",
    "1- Ejercicio 1: Evaluación de Edades:\n",
    "Escribe un programa que solicite al usuario ingresar su edad.\n",
    "Si la edad es menor de 18, muestra \"Eres menor de edad\".\n",
    "Si la edad está entre 18 y 65 (incluyendo ambos extremos), muestra \"Eres adulto\".\n",
    "Si la edad es mayor o igual a 65, muestra \"Eres un adulto mayor\".\n",
    "\n",
    "2-Ejercicio 2:\n",
    "\n",
    ". Determinación de Día de la Semana\n",
    "Solicita al usuario que ingrese un número del 1 al 7.\n",
    "Utilizando una serie de if-elif-else, muestra el día de la semana correspondiente al número ingresado. Por ejemplo, si ingresa 1, muestra \"Lunes\"."
   ]
  },
  {
   "cell_type": "code",
   "execution_count": 2,
   "metadata": {},
   "outputs": [
    {
     "name": "stdout",
     "output_type": "stream",
     "text": [
      "Eres adulto mayor\n"
     ]
    }
   ],
   "source": [
    "edad = int( input(' Ingrese su edad, por favor: '))\n",
    "if edad < 18:\n",
    "    print( 'Eres menor de edad')\n",
    "elif edad >= 18 and edad <= 65:\n",
    "    print('Eres adulto')\n",
    "else:\n",
    "    print('Eres adulto mayor')"
   ]
  },
  {
   "cell_type": "code",
   "execution_count": 105,
   "metadata": {},
   "outputs": [
    {
     "name": "stdout",
     "output_type": "stream",
     "text": [
      "Es Jueves\n"
     ]
    }
   ],
   "source": [
    "dia_en_numero= int(input ('Ingrese un número del 1 al 7: '))\n",
    "\n",
    "if dia_en_numero < 8:\n",
    "    if dia_en_numero == 1:\n",
    "        print('Es Lunes')\n",
    "    elif dia_en_numero == 2:\n",
    "        print('Es Martes')\n",
    "    elif dia_en_numero == 3:\n",
    "        print('Es Miercoles')\n",
    "    elif dia_en_numero == 4:\n",
    "        print('Es Jueves')\n",
    "    elif dia_en_numero == 5:\n",
    "        print('Es Viernes')\n",
    "    elif dia_en_numero == 6:\n",
    "        print('Es Sabado')\n",
    "    elif dia_en_numero == 7:\n",
    "        print('Es Domingo')\n",
    "\n",
    "else:\n",
    "    print('Numero fuera de rango')"
   ]
  },
  {
   "cell_type": "markdown",
   "metadata": {},
   "source": [
    "3-Ejercicio 3: Juego de Adivinanza\n",
    "\n",
    "Genera un número aleatorio entre 1 y 100.\n",
    "Pídele al usuario que adivine el número.\n",
    "Si el usuario adivina correctamente en el primer intento, muestra \"¡Ganaste en el primer intento!\".\n",
    "Si el usuario no adivina en el primer intento, bríndale pistas (mayor o menor) y permite que intente nuevamente. Muestra cuántos intentos le llevó al final."
   ]
  },
  {
   "cell_type": "code",
   "execution_count": 103,
   "metadata": {},
   "outputs": [
    {
     "name": "stdout",
     "output_type": "stream",
     "text": [
      "Felicidades ha ganado en el primer intento\n",
      "la cantidad de intentos fueron 1\n"
     ]
    }
   ],
   "source": [
    "import random\n",
    "numero_aleatorio = random.randint(1,100) \n",
    "intentos =0\n",
    "\n",
    "while True:\n",
    "  adivina_usuario= int(input('Ingresa un número y adivina el numero secreto: '))\n",
    "  intentos +=1\n",
    "\n",
    "  if adivina_usuario == numero_aleatorio and intentos == 1:\n",
    "       print(\"Felicidades ha ganado en el primer intento\")\n",
    "       break\n",
    "\n",
    "  elif adivina_usuario == numero_aleatorio:\n",
    "        print('Has ganado!')\n",
    "        break \n",
    "\n",
    "  elif adivina_usuario < numero_aleatorio:\n",
    "        print('El nùmero que has elegido es menor al número secreto. Sigue intentando')\n",
    "        \n",
    "        \n",
    "  else: \n",
    "        print('El nùmero que has elegido es mayor al número secreto. Sigue intentando')\n",
    "        \n",
    "\n",
    "print(f'la cantidad de intentos fueron {intentos}') \n"
   ]
  },
  {
   "cell_type": "markdown",
   "metadata": {},
   "source": []
  },
  {
   "cell_type": "markdown",
   "metadata": {},
   "source": [
    "4- Ejercicio 4: Juego de Adivinar la Palabra\n",
    "\n",
    "Elige una palabra secreta y ocúltala utilizando asteriscos, por ejemplo, \"secreto\" se muestra como \"*******\".\n",
    "Permite al usuario adivinar letras una por una.\n",
    "Si la letra adivinada está en la palabra secreta, muestra la palabra con las letras descubiertas y los asteriscos.\n",
    "Si la letra no está en la palabra secreta, resta una vida al jugador.\n",
    "El juego continúa hasta que el jugador adivine la palabra."
   ]
  },
  {
   "cell_type": "code",
   "execution_count": null,
   "metadata": {},
   "outputs": [],
   "source": [
    "palabra= 'analisis'\n",
    "palabra_secreta = \"********\"\n",
    "descuento_vidas= 5\n",
    "adivina_palabra = \"\"\n",
    "\n",
    "while descuento_vidas <5:\n",
    "  usuario_adivina = input( 'Ingrese una letra: ')\n",
    "\n",
    "  if usuario_adivina == palabra:\n",
    "    print('Felicidades, has adivinado')\n",
    "\n",
    "  elif usuario_adivina in palabra:\n",
    "    print(f'La letra es {usuario_adivina} y esta en la palabra secreta')\n",
    "    adivina_palabra = adivina_palabra + usuario_adivina\n",
    "  \n",
    "    \n",
    "  else:\n",
    "    print(f'La letra no se encuentra en la palabra secreta')\n",
    "    descuento_vidas-=1\n",
    "  \n",
    "else:\n",
    "  print('Juego terminado')\n",
    "\n",
    "\n",
    "\n",
    "\n",
    "\n"
   ]
  }
 ],
 "metadata": {
  "kernelspec": {
   "display_name": "base",
   "language": "python",
   "name": "python3"
  },
  "language_info": {
   "codemirror_mode": {
    "name": "ipython",
    "version": 3
   },
   "file_extension": ".py",
   "mimetype": "text/x-python",
   "name": "python",
   "nbconvert_exporter": "python",
   "pygments_lexer": "ipython3",
   "version": "3.9.7"
  },
  "orig_nbformat": 4
 },
 "nbformat": 4,
 "nbformat_minor": 2
}
